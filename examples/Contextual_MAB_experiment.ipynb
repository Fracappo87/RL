{
 "cells": [
  {
   "cell_type": "markdown",
   "metadata": {},
   "source": [
    "# MAB experiment\n",
    "\n",
    "In this notebook we will simulate a multi armed bandit experiment, using different approaches to solve it"
   ]
  },
  {
   "cell_type": "code",
   "execution_count": 1,
   "metadata": {},
   "outputs": [],
   "source": [
    "import os\n",
    "import sys\n",
    "sys.path.append('/Users/fci02/Documents/GitHub/decisioning-analysis/test_and_learn/production_modules/')\n",
    "\n",
    "import numpy as np\n",
    "import pandas as pd\n",
    "\n",
    "from scipy.stats import f_oneway\n",
    "from tqdm import tqdm\n",
    "\n",
    "from contextual_mab.experiments.framework import MABFramework\n",
    "from contextual_mab.experiments.framework import run_experiment\n",
    "from contextual_mab.data_utils.data_generation  import generate_experimental_dataset\n",
    "\n",
    "import matplotlib.pyplot as plt\n",
    "import seaborn as sns"
   ]
  },
  {
   "cell_type": "markdown",
   "metadata": {},
   "source": [
    "## Experimental data generation"
   ]
  },
  {
   "cell_type": "code",
   "execution_count": 2,
   "metadata": {},
   "outputs": [],
   "source": [
    "n_1 = 5000\n",
    "noise_scale_1=5.\n",
    "\n",
    "cw_1 = [.05,.03,.01]\n",
    "\n",
    "ct_prm_1 = {'X1':{'loc':0.,'scale':1.},\n",
    "          'X2':{'loc':10.,'scale':5.},\n",
    "          'X3':{'loc':-.3,'scale':.5}}\n",
    "\n",
    "ord_prm_1 = {'O1':{'start':1,'stop':11,'weights':[.1]*10},\n",
    "           'O2':{'start':1,'stop':4,'weights':[.3,.4,.3]}}\n",
    "\n",
    "catg_prm_1 = {'C1':{'levels':['Yes','No'],'weights':[.4,.6]},\n",
    "            'C2':{'levels':['Green','Yellow'],'weights':[.2,.8]},\n",
    "            'C3':{'levels':['A','B','C'],'weights':[.4,.1,.5]}}\n",
    "\n",
    "weights_1 = [[-0.85427315,  1.16572722,  0.8890073,  -0.57988417, 0.15193386, \n",
    "              -0.28800726, -0.06606457,  0.36732494, -0.03666541, -0.61067511],\n",
    "             [ 0.46719077, -1.64435559,  0.69791627, -0.14981489,  0.26023682,  \n",
    "               0.67528998, 1.52150038,  1.05417964,  0.37329345,  0.79700709],\n",
    "             [ 1.62075116, 0.15865047, -0.85728784,  1.23667642, -0.58707557,\n",
    "               0.05713119, -0.47387454,  0.51293855, -0.55820087, -2.14815787]]"
   ]
  },
  {
   "cell_type": "code",
   "execution_count": 3,
   "metadata": {},
   "outputs": [],
   "source": [
    "n_2 = 5000\n",
    "cw_2 = [.02,.07,.03]\n",
    "\n",
    "ct_prm_2 = {'X1':{'loc':5.,'scale':1.},\n",
    "            'X2':{'loc':1.,'scale':5.},\n",
    "            'X3':{'loc':1.3,'scale':.5}}\n",
    "\n",
    "ord_prm_2 = {'O1':{'start':1,'stop':11,'weights':[.2,.2,.05,.05,.05,.05,.1,.1,.1,.1]},\n",
    "             'O2':{'start':1,'stop':4,'weights':[.1,.6,.3]}}\n",
    "\n",
    "catg_prm_2 = {'C1':{'levels':['Yes','No'],'weights':[.1,.9]},\n",
    "              'C2':{'levels':['Green','Yellow'],'weights':[.5,.5]},\n",
    "              'C3':{'levels':['A','B','C'],'weights':[.6,.2,.2]}}\n",
    "\n",
    "noise_scale_2=5.\n",
    "\n",
    "weights_2 = [[ 0.2249653,   0.54732847,  0.76620536,  0.7461608,  -0.76568111,\n",
    "              -0.13241893, -1.82046231, -0.47742618, -0.96465132, -0.68848216],\n",
    "             [-0.04717597,  1.49105257, -0.6332578,  -1.03206255, -1.30374031,\n",
    "              -0.48575409, 0.01466847, 0.54927814,  0.72014772,  0.42807199],\n",
    "             [-0.56907754, 0.04875765,  0.89346343,  0.62619356, -2.19116666,\n",
    "              1.70168624, 0.34768686,  0.26208243,  1.27787397, -2.07476064]]"
   ]
  },
  {
   "cell_type": "code",
   "execution_count": 4,
   "metadata": {},
   "outputs": [],
   "source": [
    "n_3 = 5000\n",
    "cw_3 = [.01,.03,.06]\n",
    "\n",
    "ct_prm_3 = {'X1':{'loc':-2.,'scale':1.},\n",
    "            'X2':{'loc':-20.,'scale':5.},\n",
    "            'X3':{'loc':11.3,'scale':.5}}\n",
    "\n",
    "ord_prm_3 = {'O1':{'start':1,'stop':11,'weights':[.5,.0,.0,.0,.05,.05,.1,.1,.1,.1]},\n",
    "             'O2':{'start':1,'stop':4,'weights':[.5,.1,.4]}}\n",
    "\n",
    "catg_prm_3 = {'C1':{'levels':['Yes','No'],'weights':[.5,.5]},\n",
    "              'C2':{'levels':['Green','Yellow'],'weights':[.8,.2]},\n",
    "              'C3':{'levels':['A','B','C'],'weights':[.35,.35,.3]}}\n",
    "\n",
    "noise_scale_3=5.\n",
    "\n",
    "weights_3 = [[ 0.2249653,   0.54732847,  0.76620536,  0.7461608,  -0.76568111, \n",
    "              -0.13241893, -1.82046231, -0.47742618, -0.96465132, -0.68848216],\n",
    "             [-0.04717597,  1.49105257, -0.6332578,  -1.03206255, -1.30374031,\n",
    "              -0.48575409, 0.01466847,  0.54927814,  0.72014772,  0.42807199],\n",
    "             [-0.56907754,  0.04875765,  0.89346343,  0.62619356, -2.19116666,\n",
    "              1.70168624, 0.34768686,  0.26208243,  1.27787397, -2.07476064]]"
   ]
  },
  {
   "cell_type": "code",
   "execution_count": 5,
   "metadata": {},
   "outputs": [
    {
     "name": "stdout",
     "output_type": "stream",
     "text": [
      "Group 1\n"
     ]
    },
    {
     "data": {
      "text/plain": [
       "action_1_reward    0.0416\n",
       "action_2_reward    0.0290\n",
       "action_3_reward    0.0052\n",
       "dtype: float64"
      ]
     },
     "metadata": {},
     "output_type": "display_data"
    },
    {
     "name": "stdout",
     "output_type": "stream",
     "text": [
      "Group 2\n"
     ]
    },
    {
     "data": {
      "text/plain": [
       "action_1_reward    0.0188\n",
       "action_2_reward    0.0676\n",
       "action_3_reward    0.0260\n",
       "dtype: float64"
      ]
     },
     "metadata": {},
     "output_type": "display_data"
    },
    {
     "name": "stdout",
     "output_type": "stream",
     "text": [
      "Group 3\n"
     ]
    },
    {
     "data": {
      "text/plain": [
       "action_1_reward    0.0096\n",
       "action_2_reward    0.0300\n",
       "action_3_reward    0.0464\n",
       "dtype: float64"
      ]
     },
     "metadata": {},
     "output_type": "display_data"
    },
    {
     "name": "stdout",
     "output_type": "stream",
     "text": [
      "Overall\n"
     ]
    },
    {
     "data": {
      "text/plain": [
       "action_1_reward    0.023333\n",
       "action_2_reward    0.042200\n",
       "action_3_reward    0.025867\n",
       "dtype: float64"
      ]
     },
     "metadata": {},
     "output_type": "display_data"
    }
   ],
   "source": [
    "seed = 0\n",
    "experiment_data = generate_experimental_dataset([n_1,n_2,n_3],\n",
    "                                                [cw_1,cw_2,cw_3],\n",
    "                                                [ct_prm_1,ct_prm_2,ct_prm_3],\n",
    "                                                [ord_prm_1,ord_prm_2,ord_prm_3],\n",
    "                                                [catg_prm_1,catg_prm_2,catg_prm_3],\n",
    "                                                [noise_scale_1,noise_scale_2,noise_scale_3],\n",
    "                                                [weights_1,weights_2,weights_3],\n",
    "                                                seed,\n",
    "                                                output_info=True)"
   ]
  },
  {
   "cell_type": "markdown",
   "metadata": {},
   "source": [
    "## Single run"
   ]
  },
  {
   "cell_type": "markdown",
   "metadata": {},
   "source": [
    "### ABC greedy"
   ]
  },
  {
   "cell_type": "code",
   "execution_count": 6,
   "metadata": {},
   "outputs": [
    {
     "name": "stderr",
     "output_type": "stream",
     "text": [
      "100%|██████████| 7/7 [00:00<00:00, 70.39it/s]\n"
     ]
    },
    {
     "data": {
      "text/plain": [
       "0.038066666666666665"
      ]
     },
     "execution_count": 6,
     "metadata": {},
     "output_type": "execute_result"
    }
   ],
   "source": [
    "batch_size = 2000\n",
    "\n",
    "run_experiment(experiment_data, batch_size, MABFramework,{'strategy':'static-one-fits-all','n_actions':3,'static_min_steps':2})"
   ]
  },
  {
   "cell_type": "markdown",
   "metadata": {},
   "source": [
    "### Thompson Sampling"
   ]
  },
  {
   "cell_type": "code",
   "execution_count": 7,
   "metadata": {},
   "outputs": [
    {
     "name": "stderr",
     "output_type": "stream",
     "text": [
      "100%|██████████| 7/7 [00:00<00:00, 85.74it/s]\n"
     ]
    },
    {
     "data": {
      "text/plain": [
       "0.04033333333333333"
      ]
     },
     "execution_count": 7,
     "metadata": {},
     "output_type": "execute_result"
    }
   ],
   "source": [
    "run_experiment(experiment_data, batch_size, MABFramework,{'strategy':'dynamic-one-fits-all','n_actions':3,'alphas':[1.,1.,1.],'betas':[1.,1.,1.]})"
   ]
  },
  {
   "cell_type": "markdown",
   "metadata": {},
   "source": [
    "### Contextual Thompson Sampling\n",
    "#### Bayesian Logistic"
   ]
  },
  {
   "cell_type": "code",
   "execution_count": 8,
   "metadata": {},
   "outputs": [],
   "source": [
    "from contextual_mab.predictive_models.bayesian_logistic import BayesianLogisticRegression"
   ]
  },
  {
   "cell_type": "code",
   "execution_count": 9,
   "metadata": {},
   "outputs": [
    {
     "data": {
      "text/plain": [
       "['X1', 'X2', 'X3', 'O1', 'O2', 'C1_Yes', 'C2_Yellow', 'C3_B', 'C3_C']"
      ]
     },
     "execution_count": 9,
     "metadata": {},
     "output_type": "execute_result"
    }
   ],
   "source": [
    "action_cols = [column for column in experiment_data.columns if 'action' in column]\n",
    "predictors = pd.get_dummies(experiment_data.drop(columns=action_cols),drop_first=True).columns.tolist()\n",
    "predictors"
   ]
  },
  {
   "cell_type": "code",
   "execution_count": 10,
   "metadata": {},
   "outputs": [
    {
     "name": "stderr",
     "output_type": "stream",
     "text": [
      "  0%|          | 0/7 [00:00<?, ?it/s]Auto-assigning NUTS sampler...\n",
      "Initializing NUTS using adapt_diag...\n",
      "Multiprocess sampling (2 chains in 2 jobs)\n",
      "NUTS: [C3_C, C3_B, C2_Yellow, C1_Yes, O2, O1, X3, X2, X1, Intercept]\n",
      "Auto-assigning NUTS sampler...\n",
      "Initializing NUTS using adapt_diag...\n",
      "Multiprocess sampling (2 chains in 2 jobs)\n",
      "NUTS: [C3_C, C3_B, C2_Yellow, C1_Yes, O2, O1, X3, X2, X1, Intercept]\n",
      "Auto-assigning NUTS sampler...\n",
      "Initializing NUTS using adapt_diag...\n",
      "Multiprocess sampling (2 chains in 2 jobs)\n",
      "NUTS: [C3_C, C3_B, C2_Yellow, C1_Yes, O2, O1, X3, X2, X1, Intercept]\n",
      " 29%|██▊       | 2/7 [00:42<01:47, 21.47s/it]Auto-assigning NUTS sampler...\n",
      "Initializing NUTS using adapt_diag...\n",
      "Multiprocess sampling (2 chains in 2 jobs)\n",
      "NUTS: [C3_C, C3_B, C2_Yellow, C1_Yes, O2, O1, X3, X2, X1, Intercept]\n",
      "Auto-assigning NUTS sampler...\n",
      "Initializing NUTS using adapt_diag...\n",
      "Multiprocess sampling (2 chains in 2 jobs)\n",
      "NUTS: [C3_C, C3_B, C2_Yellow, C1_Yes, O2, O1, X3, X2, X1, Intercept]\n",
      "Auto-assigning NUTS sampler...\n",
      "Initializing NUTS using adapt_diag...\n",
      "Multiprocess sampling (2 chains in 2 jobs)\n",
      "NUTS: [C3_C, C3_B, C2_Yellow, C1_Yes, O2, O1, X3, X2, X1, Intercept]\n",
      " 43%|████▎     | 3/7 [01:28<01:54, 28.61s/it]Auto-assigning NUTS sampler...\n",
      "Initializing NUTS using adapt_diag...\n",
      "Multiprocess sampling (2 chains in 2 jobs)\n",
      "NUTS: [C3_C, C3_B, C2_Yellow, C1_Yes, O2, O1, X3, X2, X1, Intercept]\n",
      "Auto-assigning NUTS sampler...\n",
      "Initializing NUTS using adapt_diag...\n",
      "Multiprocess sampling (2 chains in 2 jobs)\n",
      "NUTS: [C3_C, C3_B, C2_Yellow, C1_Yes, O2, O1, X3, X2, X1, Intercept]\n",
      "Auto-assigning NUTS sampler...\n",
      "Initializing NUTS using adapt_diag...\n",
      "Multiprocess sampling (2 chains in 2 jobs)\n",
      "NUTS: [C3_C, C3_B, C2_Yellow, C1_Yes, O2, O1, X3, X2, X1, Intercept]\n",
      " 57%|█████▋    | 4/7 [02:31<01:56, 38.86s/it]Auto-assigning NUTS sampler...\n",
      "Initializing NUTS using adapt_diag...\n",
      "Multiprocess sampling (2 chains in 2 jobs)\n",
      "NUTS: [C3_C, C3_B, C2_Yellow, C1_Yes, O2, O1, X3, X2, X1, Intercept]\n",
      "Auto-assigning NUTS sampler...\n",
      "Initializing NUTS using adapt_diag...\n",
      "Multiprocess sampling (2 chains in 2 jobs)\n",
      "NUTS: [C3_C, C3_B, C2_Yellow, C1_Yes, O2, O1, X3, X2, X1, Intercept]\n",
      "Auto-assigning NUTS sampler...\n",
      "Initializing NUTS using adapt_diag...\n",
      "Multiprocess sampling (2 chains in 2 jobs)\n",
      "NUTS: [C3_C, C3_B, C2_Yellow, C1_Yes, O2, O1, X3, X2, X1, Intercept]\n",
      " 71%|███████▏  | 5/7 [03:42<01:37, 48.56s/it]Auto-assigning NUTS sampler...\n",
      "Initializing NUTS using adapt_diag...\n",
      "Multiprocess sampling (2 chains in 2 jobs)\n",
      "NUTS: [C3_C, C3_B, C2_Yellow, C1_Yes, O2, O1, X3, X2, X1, Intercept]\n",
      "Auto-assigning NUTS sampler...\n",
      "Initializing NUTS using adapt_diag...\n",
      "Multiprocess sampling (2 chains in 2 jobs)\n",
      "NUTS: [C3_C, C3_B, C2_Yellow, C1_Yes, O2, O1, X3, X2, X1, Intercept]\n",
      "Auto-assigning NUTS sampler...\n",
      "Initializing NUTS using adapt_diag...\n",
      "Multiprocess sampling (2 chains in 2 jobs)\n",
      "NUTS: [C3_C, C3_B, C2_Yellow, C1_Yes, O2, O1, X3, X2, X1, Intercept]\n",
      " 86%|████████▌ | 6/7 [05:12<01:01, 61.05s/it]Auto-assigning NUTS sampler...\n",
      "Initializing NUTS using adapt_diag...\n",
      "Multiprocess sampling (2 chains in 2 jobs)\n",
      "NUTS: [C3_C, C3_B, C2_Yellow, C1_Yes, O2, O1, X3, X2, X1, Intercept]\n",
      "Auto-assigning NUTS sampler...\n",
      "Initializing NUTS using adapt_diag...\n",
      "Multiprocess sampling (2 chains in 2 jobs)\n",
      "NUTS: [C3_C, C3_B, C2_Yellow, C1_Yes, O2, O1, X3, X2, X1, Intercept]\n",
      "Auto-assigning NUTS sampler...\n",
      "Initializing NUTS using adapt_diag...\n",
      "Multiprocess sampling (2 chains in 2 jobs)\n",
      "NUTS: [C3_C, C3_B, C2_Yellow, C1_Yes, O2, O1, X3, X2, X1, Intercept]\n",
      "100%|██████████| 7/7 [07:17<00:00, 80.22s/it]\n",
      "Auto-assigning NUTS sampler...\n",
      "Initializing NUTS using adapt_diag...\n",
      "Multiprocess sampling (2 chains in 2 jobs)\n",
      "NUTS: [C3_C, C3_B, C2_Yellow, C1_Yes, O2, O1, X3, X2, X1, Intercept]\n",
      "Auto-assigning NUTS sampler...\n",
      "Initializing NUTS using adapt_diag...\n",
      "Multiprocess sampling (2 chains in 2 jobs)\n",
      "NUTS: [C3_C, C3_B, C2_Yellow, C1_Yes, O2, O1, X3, X2, X1, Intercept]\n",
      "Auto-assigning NUTS sampler...\n",
      "Initializing NUTS using adapt_diag...\n",
      "Multiprocess sampling (2 chains in 2 jobs)\n",
      "NUTS: [C3_C, C3_B, C2_Yellow, C1_Yes, O2, O1, X3, X2, X1, Intercept]\n"
     ]
    },
    {
     "data": {
      "text/plain": [
       "0.058133333333333335"
      ]
     },
     "execution_count": 10,
     "metadata": {},
     "output_type": "execute_result"
    }
   ],
   "source": [
    "run_experiment(experiment_data, batch_size, MABFramework,{'strategy':'contextual-one-fits-one','n_actions':3,\n",
    "                                                          'modelling_approach':BayesianLogisticRegression,\n",
    "                                                          'modelling_approach_pms':{'n_samples':500,'n_chains':2,\n",
    "                                                                                    'predictors':predictors.copy(),\n",
    "                                                                                    'tune':1000,\n",
    "                                                                                    'check_prog':False}})"
   ]
  },
  {
   "cell_type": "markdown",
   "metadata": {},
   "source": [
    "#### Bootstrap Oracles"
   ]
  },
  {
   "cell_type": "code",
   "execution_count": 11,
   "metadata": {},
   "outputs": [],
   "source": [
    "from contextual_mab.predictive_models.oracles import BootstrapOracle\n",
    "from sklearn.linear_model import LogisticRegression"
   ]
  },
  {
   "cell_type": "code",
   "execution_count": 12,
   "metadata": {},
   "outputs": [],
   "source": [
    "logistic_params = {'solver':'lbfgs',\n",
    "                   'max_iter':500,\n",
    "                   'random_state':0}"
   ]
  },
  {
   "cell_type": "code",
   "execution_count": 13,
   "metadata": {},
   "outputs": [
    {
     "name": "stderr",
     "output_type": "stream",
     "text": [
      "100%|██████████| 7/7 [05:25<00:00, 56.02s/it]\n"
     ]
    },
    {
     "data": {
      "text/plain": [
       "0.05926666666666667"
      ]
     },
     "execution_count": 13,
     "metadata": {},
     "output_type": "execute_result"
    }
   ],
   "source": [
    "run_experiment(experiment_data, batch_size, MABFramework,{'strategy':'contextual-one-fits-one','n_actions':3,\n",
    "                                                          'modelling_approach':BootstrapOracle,\n",
    "                                                          'modelling_approach_pms':{'n_bootstrap':1000,\n",
    "                                                                                    'learner_class':LogisticRegression,\n",
    "                                                                                    'learner_class_params':logistic_params,\n",
    "                                                                                    'check_prog':False}})"
   ]
  },
  {
   "cell_type": "markdown",
   "metadata": {},
   "source": [
    "## Running many experiments"
   ]
  },
  {
   "cell_type": "code",
   "execution_count": 14,
   "metadata": {},
   "outputs": [],
   "source": [
    "batch_size = 2000"
   ]
  },
  {
   "cell_type": "code",
   "execution_count": 15,
   "metadata": {},
   "outputs": [
    {
     "name": "stderr",
     "output_type": "stream",
     "text": [
      "100%|██████████| 7/7 [00:00<00:00, 100.57it/s]\n",
      "100%|██████████| 7/7 [00:00<00:00, 96.38it/s]\n",
      "100%|██████████| 7/7 [00:00<00:00, 98.88it/s]\n",
      "100%|██████████| 7/7 [00:00<00:00, 100.06it/s]\n",
      "100%|██████████| 7/7 [00:00<00:00, 99.99it/s]\n",
      "100%|██████████| 7/7 [00:00<00:00, 103.35it/s]\n",
      "100%|██████████| 7/7 [00:00<00:00, 99.58it/s]\n",
      "100%|██████████| 7/7 [00:00<00:00, 93.36it/s]\n",
      "100%|██████████| 7/7 [00:00<00:00, 91.86it/s]\n",
      "100%|██████████| 7/7 [00:00<00:00, 99.69it/s]\n"
     ]
    }
   ],
   "source": [
    "abc_approval_rates = []\n",
    "for seed in range(10):\n",
    "    experiment_data = generate_experimental_dataset([n_1,n_2,n_3],\n",
    "                                                [cw_1,cw_2,cw_3],\n",
    "                                                [ct_prm_1,ct_prm_2,ct_prm_3],\n",
    "                                                [ord_prm_1,ord_prm_2,ord_prm_3],\n",
    "                                                [catg_prm_1,catg_prm_2,catg_prm_3],\n",
    "                                                [noise_scale_1,noise_scale_2,noise_scale_3],\n",
    "                                                [weights_1,weights_2,weights_3],\n",
    "                                                seed)\n",
    "    abc_approval_rates.append(run_experiment(experiment_data, batch_size, MABFramework,{'strategy':'static-one-fits-all','n_actions':3,'static_min_steps':2}))"
   ]
  },
  {
   "cell_type": "code",
   "execution_count": 16,
   "metadata": {},
   "outputs": [
    {
     "name": "stderr",
     "output_type": "stream",
     "text": [
      "100%|██████████| 7/7 [00:00<00:00, 94.99it/s]\n",
      "100%|██████████| 7/7 [00:00<00:00, 97.08it/s]\n",
      "100%|██████████| 7/7 [00:00<00:00, 97.71it/s]\n",
      "100%|██████████| 7/7 [00:00<00:00, 96.70it/s]\n",
      "100%|██████████| 7/7 [00:00<00:00, 97.18it/s]\n",
      "100%|██████████| 7/7 [00:00<00:00, 98.32it/s]\n",
      "100%|██████████| 7/7 [00:00<00:00, 95.63it/s]\n",
      "100%|██████████| 7/7 [00:00<00:00, 98.21it/s]\n",
      "100%|██████████| 7/7 [00:00<00:00, 97.85it/s]\n",
      "100%|██████████| 7/7 [00:00<00:00, 93.42it/s]\n"
     ]
    }
   ],
   "source": [
    "ts_approval_rates = []\n",
    "for seed in range(10):\n",
    "    experiment_data = generate_experimental_dataset([n_1,n_2,n_3],\n",
    "                                                [cw_1,cw_2,cw_3],\n",
    "                                                [ct_prm_1,ct_prm_2,ct_prm_3],\n",
    "                                                [ord_prm_1,ord_prm_2,ord_prm_3],\n",
    "                                                [catg_prm_1,catg_prm_2,catg_prm_3],\n",
    "                                                [noise_scale_1,noise_scale_2,noise_scale_3],\n",
    "                                                [weights_1,weights_2,weights_3],\n",
    "                                                seed)\n",
    "    ts_approval_rates.append(run_experiment(experiment_data, batch_size, MABFramework,{'strategy':'dynamic-one-fits-all','n_actions':3,'alphas':[1.,1.,1.],'betas':[1.,1.,1.]}))"
   ]
  },
  {
   "cell_type": "code",
   "execution_count": 17,
   "metadata": {},
   "outputs": [
    {
     "data": {
      "text/plain": [
       "(-7.372048750698871, 1.6802554565386437e-13)"
      ]
     },
     "execution_count": 17,
     "metadata": {},
     "output_type": "execute_result"
    }
   ],
   "source": [
    "from statsmodels.stats.weightstats import ztest\n",
    "ztest(abc_approval_rates,ts_approval_rates)"
   ]
  },
  {
   "cell_type": "code",
   "execution_count": null,
   "metadata": {},
   "outputs": [],
   "source": []
  }
 ],
 "metadata": {
  "kernelspec": {
   "display_name": "Python 3",
   "language": "python",
   "name": "python3"
  },
  "language_info": {
   "codemirror_mode": {
    "name": "ipython",
    "version": 3
   },
   "file_extension": ".py",
   "mimetype": "text/x-python",
   "name": "python",
   "nbconvert_exporter": "python",
   "pygments_lexer": "ipython3",
   "version": "3.7.3"
  }
 },
 "nbformat": 4,
 "nbformat_minor": 2
}
